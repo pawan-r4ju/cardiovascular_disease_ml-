{
 "cells": [
  {
   "cell_type": "code",
   "execution_count": 2,
   "id": "df321602-0cf9-42a9-b7c7-4db61300917b",
   "metadata": {},
   "outputs": [
    {
     "name": "stdout",
     "output_type": "stream",
     "text": [
      "Defaulting to user installation because normal site-packages is not writeable\n",
      "Collecting natsort\n",
      "  Obtaining dependency information for natsort from https://files.pythonhosted.org/packages/ef/82/7a9d0550484a62c6da82858ee9419f3dd1ccc9aa1c26a1e43da3ecd20b0d/natsort-8.4.0-py3-none-any.whl.metadata\n",
      "  Downloading natsort-8.4.0-py3-none-any.whl.metadata (21 kB)\n",
      "Downloading natsort-8.4.0-py3-none-any.whl (38 kB)\n",
      "Installing collected packages: natsort\n",
      "Successfully installed natsort-8.4.0\n"
     ]
    },
    {
     "name": "stderr",
     "output_type": "stream",
     "text": [
      "  WARNING: The script natsort.exe is installed in 'C:\\Users\\pawan\\AppData\\Roaming\\Python\\Python311\\Scripts' which is not on PATH.\n",
      "  Consider adding this directory to PATH or, if you prefer to suppress this warning, use --no-warn-script-location.\n"
     ]
    }
   ],
   "source": [
    "!pip install natsort\n"
   ]
  },
  {
   "cell_type": "code",
   "execution_count": 3,
   "id": "d5589f3c-14f1-4495-a37e-92ebe9afbb95",
   "metadata": {},
   "outputs": [],
   "source": [
    "# Importing necessary libraries\n",
    "import pandas as pd\n",
    "import numpy as np\n",
    "import os\n",
    "from natsort import natsorted\n",
    "import joblib\n",
    "from sklearn.decomposition import PCA\n",
    "from sklearn.pipeline import Pipeline\n",
    "from sklearn.neighbors import KNeighborsClassifier\n",
    "from sklearn.linear_model import LogisticRegression\n",
    "from sklearn.svm import SVC\n",
    "from sklearn.model_selection import train_test_split, GridSearchCV\n",
    "from sklearn.metrics import confusion_matrix, classification_report"
   ]
  },
  {
   "cell_type": "code",
   "execution_count": 4,
   "id": "93f5c7b7-c601-4afd-8a07-ceb176bdd07b",
   "metadata": {},
   "outputs": [],
   "source": [
    "# Defining file paths\n",
    "normal = 'C:\\\\Users\\\\pawan\\\\Downloads\\\\ultron test\\\\NORMAL'\n",
    "abnormal = 'C:\\\\Users\\\\pawan\\\\Downloads\\\\ultron test\\\\AHB'\n",
    "MI = 'C:\\\\Users\\\\pawan\\\\Downloads\\\\ultron test\\\\MI'\n",
    "MI_history = 'C:\\\\Users\\\\pawan\\\\Downloads\\\\ultron test\\\\PM'"
   ]
  },
  {
   "cell_type": "code",
   "execution_count": 5,
   "id": "6e9c2a36-e2cd-41dc-af70-9180fb59f747",
   "metadata": {},
   "outputs": [],
   "source": [
    "# Mapping types to file paths\n",
    "Types_ECG = {'normal': normal, 'Abnormal_hear_beat': abnormal, 'MI': MI, 'History_MI': MI_history}\n"
   ]
  },
  {
   "cell_type": "code",
   "execution_count": 6,
   "id": "2a2d64e2-7535-477f-b819-e30c2c04c2e3",
   "metadata": {},
   "outputs": [],
   "source": [
    "# Creating lists to store file names\n",
    "NORMAL_ = []\n",
    "MI_ = []\n",
    "PMI_ = []\n",
    "HB_ = []\n"
   ]
  },
  {
   "cell_type": "code",
   "execution_count": 7,
   "id": "5822a731-6411-4d58-a92b-a3e3d8f115e8",
   "metadata": {},
   "outputs": [],
   "source": [
    "# Extracting file names\n",
    "for types, folder in Types_ECG.items():\n",
    "    for files in os.listdir(folder):\n",
    "        if types == 'normal':\n",
    "            NORMAL_.append(files)\n",
    "        elif types == 'Abnormal_hear_beat':\n",
    "            HB_.append(files)\n",
    "        elif types == 'MI':\n",
    "            MI_.append(files)\n",
    "        elif types == 'History_MI':\n",
    "            PMI_.append(files)"
   ]
  },
  {
   "cell_type": "code",
   "execution_count": 8,
   "id": "f3be4aa9-95d3-4a7e-9e2a-1aa06bc47784",
   "metadata": {},
   "outputs": [],
   "source": [
    "# Sorting file names\n",
    "NORMAL_ = natsorted(NORMAL_)\n",
    "MI_ = natsorted(MI_)\n",
    "PMI_ = natsorted(PMI_)\n",
    "HB_ = natsorted(HB_)"
   ]
  },
  {
   "cell_type": "code",
   "execution_count": 9,
   "id": "dba04c40-3b8f-4b1a-8a92-12b9c835722d",
   "metadata": {},
   "outputs": [],
   "source": [
    "# Preprocessing and modeling steps\n",
    "def preprocess_and_model():\n",
    "    # Looping over and creating combined CSV files for each lead\n",
    "    for x in range(len(MI_)):\n",
    "        df1 = pd.read_csv('C:\\\\Users\\\\pawan\\\\Downloads\\\\ultron test\\\\NORMAL\\\\{}'.format(NORMAL_[x]))\n",
    "        df2 = pd.read_csv('C:\\\\Users\\\\pawan\\\\Downloads\\\\ultron test\\\\AHB\\\\{}'.format(HB_[x]))\n",
    "        df3 = pd.read_csv('C:\\\\Users\\\\pawan\\\\Downloads\\\\ultron test\\\\MI\\\\{}'.format(MI_[x]))\n",
    "        df4 = pd.read_csv('C:\\\\Users\\\\pawan\\\\Downloads\\\\ultron test\\\\PM\\\\{}'.format(PMI_[x]))\n",
    "        final_df = pd.concat([df1, df2, df3, df4], ignore_index=True)\n",
    "        final_df.to_csv('C:\\\\Users\\\\pawan\\\\Downloads\\\\ultron test\\\\Combined_IDLead_{}.csv'.format(x + 1))\n"
   ]
  },
  {
   "cell_type": "code",
   "execution_count": 14,
   "id": "70c7b46e-07ca-4509-a3c2-dcb68c2ebbbd",
   "metadata": {},
   "outputs": [],
   "source": [
    "    # Reading just lead 1\n",
    "    df = pd.read_csv(r'C:\\Users\\pawan\\Downloads\\ultron test\\Combined1d_csv\\Combined_IDLead_1.csv')\n",
    "    df.drop(columns=['Unnamed: 0'], inplace=True)"
   ]
  },
  {
   "cell_type": "code",
   "execution_count": 15,
   "id": "5b09a5b3-05c9-4766-a853-6032ee7aab68",
   "metadata": {},
   "outputs": [],
   "source": [
    "    # Converting target column values as Numeric using ngroups\n",
    "    encode_target_label = df.groupby('Target').ngroup().rename(\"target\").to_frame()\n",
    "    test_final = df.merge(encode_target_label, left_index=True, right_index=True)\n",
    "    test_final.drop(columns=['Target'], inplace=True)\n"
   ]
  },
  {
   "cell_type": "code",
   "execution_count": 16,
   "id": "c1004347-7c8d-4fe6-bd6b-938f9dbd360a",
   "metadata": {},
   "outputs": [],
   "source": [
    "    # Performing Dimensionality reduction (PCA) on the Dataframe\n",
    "    pca = PCA(n_components=100)\n",
    "    x_pca = pca.fit_transform(test_final.iloc[:, 0:-1])\n",
    "    x_pca = pd.DataFrame(x_pca)\n"
   ]
  },
  {
   "cell_type": "code",
   "execution_count": 17,
   "id": "72b19de1-ffb2-4806-a3b3-99cb4b5a38a7",
   "metadata": {},
   "outputs": [],
   "source": [
    "    # Storing the new PCA generated dimensions in a dataframe\n",
    "    pca_df = pd.DataFrame(data=x_pca)\n",
    "    target = pd.Series(test_final['target'], name='target')\n",
    "    result_df = pd.concat([pca_df, target], axis=1)"
   ]
  },
  {
   "cell_type": "code",
   "execution_count": 18,
   "id": "d2310a18-3002-41f1-bfff-9d769018fca7",
   "metadata": {},
   "outputs": [],
   "source": [
    "    # Splitting data into train and test sets\n",
    "    X = result_df.iloc[:, 0:-1]\n",
    "    y = result_df.iloc[:, -1]\n",
    "    X_train, X_test, y_train, y_test = train_test_split(X, y, test_size=0.4, random_state=42)\n"
   ]
  },
  {
   "cell_type": "code",
   "execution_count": 19,
   "id": "a74f7680-2ed8-40d4-8eb8-3ab6b577e05a",
   "metadata": {},
   "outputs": [],
   "source": [
    "    # K-Nearest Neighbors (KNN) Classifier\n",
    "    knn_pipeline = Pipeline([('knn', KNeighborsClassifier())])\n",
    "    knn_params = {'knn__n_neighbors': list(range(1, 9))}\n",
    "    knn_cv = GridSearchCV(knn_pipeline, knn_params, cv=2)\n",
    "    knn_cv.fit(X_train, y_train)\n",
    "    knn_accuracy = knn_cv.score(X_test, y_test)\n"
   ]
  },
  {
   "cell_type": "code",
   "execution_count": 22,
   "id": "2a20fa38-fd2c-4478-a7de-4cccbaea4ec2",
   "metadata": {},
   "outputs": [
    {
     "name": "stderr",
     "output_type": "stream",
     "text": [
      "C:\\ProgramData\\anaconda3\\Lib\\site-packages\\sklearn\\linear_model\\_logistic.py:458: ConvergenceWarning: lbfgs failed to converge (status=1):\n",
      "STOP: TOTAL NO. of ITERATIONS REACHED LIMIT.\n",
      "\n",
      "Increase the number of iterations (max_iter) or scale the data as shown in:\n",
      "    https://scikit-learn.org/stable/modules/preprocessing.html\n",
      "Please also refer to the documentation for alternative solver options:\n",
      "    https://scikit-learn.org/stable/modules/linear_model.html#logistic-regression\n",
      "  n_iter_i = _check_optimize_result(\n",
      "C:\\ProgramData\\anaconda3\\Lib\\site-packages\\sklearn\\linear_model\\_logistic.py:458: ConvergenceWarning: lbfgs failed to converge (status=1):\n",
      "STOP: TOTAL NO. of ITERATIONS REACHED LIMIT.\n",
      "\n",
      "Increase the number of iterations (max_iter) or scale the data as shown in:\n",
      "    https://scikit-learn.org/stable/modules/preprocessing.html\n",
      "Please also refer to the documentation for alternative solver options:\n",
      "    https://scikit-learn.org/stable/modules/linear_model.html#logistic-regression\n",
      "  n_iter_i = _check_optimize_result(\n",
      "C:\\ProgramData\\anaconda3\\Lib\\site-packages\\sklearn\\linear_model\\_logistic.py:458: ConvergenceWarning: lbfgs failed to converge (status=1):\n",
      "STOP: TOTAL NO. of ITERATIONS REACHED LIMIT.\n",
      "\n",
      "Increase the number of iterations (max_iter) or scale the data as shown in:\n",
      "    https://scikit-learn.org/stable/modules/preprocessing.html\n",
      "Please also refer to the documentation for alternative solver options:\n",
      "    https://scikit-learn.org/stable/modules/linear_model.html#logistic-regression\n",
      "  n_iter_i = _check_optimize_result(\n"
     ]
    }
   ],
   "source": [
    "# Logistic Regression Classifier\n",
    "lr_pipeline = Pipeline([('lr', LogisticRegression())])\n",
    "lr_params = {'lr__C': np.logspace(-4, 4, 3), 'lr__penalty': ['l2']}\n",
    "lr_cv = GridSearchCV(lr_pipeline, lr_params, cv=2)\n",
    "lr_cv.fit(X_train, y_train)\n",
    "lr_accuracy = lr_cv.score(X_test, y_test)"
   ]
  },
  {
   "cell_type": "code",
   "execution_count": null,
   "id": "0d05de55-d89c-4b6d-8731-b638be519666",
   "metadata": {},
   "outputs": [],
   "source": []
  }
 ],
 "metadata": {
  "kernelspec": {
   "display_name": "Python 3 (ipykernel)",
   "language": "python",
   "name": "python3"
  },
  "language_info": {
   "codemirror_mode": {
    "name": "ipython",
    "version": 3
   },
   "file_extension": ".py",
   "mimetype": "text/x-python",
   "name": "python",
   "nbconvert_exporter": "python",
   "pygments_lexer": "ipython3",
   "version": "3.11.5"
  }
 },
 "nbformat": 4,
 "nbformat_minor": 5
}
